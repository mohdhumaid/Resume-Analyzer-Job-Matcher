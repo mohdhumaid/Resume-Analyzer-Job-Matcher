{
 "cells": [
  {
   "cell_type": "code",
   "execution_count": 13,
   "id": "dc627171",
   "metadata": {},
   "outputs": [],
   "source": [
    "import fitz  # PyMuPDF\n",
    "\n",
    "def extract_text_from_pdf(file_path):\n",
    "    doc = fitz.open(file_path)\n",
    "    return \"\\n\".join([page.get_text() for page in doc])\n"
   ]
  },
  {
   "cell_type": "code",
   "execution_count": 14,
   "id": "0c2ae6d0",
   "metadata": {},
   "outputs": [
    {
     "name": "stdout",
     "output_type": "stream",
     "text": [
      "Mohd Humaid \n",
      "Jaipur, Rajasthan, India \n",
      " +91 6388792121 \n",
      " mohdhumaid65@gmail.com \n",
      " Linkedin \n",
      " Github \n",
      "EXPERIENCE \n",
      " \n",
      "Robotic Process Automation Developer \n",
      "July 2022 – Present \n",
      "AU Small Finance Bank \n",
      "Jaipur, India \n",
      "• \n",
      "UiPath and Python to automate complex processes, improve \n",
      "efficiency, and reduce errors. \n",
      "• Expert in RPA technologies. Proficient in UiPath and Python, capable of designing, developing, and deploying robust \n",
      "automation solutions. \n",
      "• Extensively utilized SQL for data manipulation, retrieval, and integration within RPA workflows, ensuring robust data \n",
      "consistency and reliability.  \n",
      "• Collaborated closely with cross-functional teams to design and deploy RPA solutions aligned with compliance and \n",
      "business goals. \n",
      "• Implemented advanced error handling, exception management, and data validation, reducing workflow failures by \n",
      "• Automated complex data tasks with Excel, reducing manual work by up to 90%. \n",
      "Internship – Frontend Developer \n",
      "April 2022 – July 2022 \n",
      "Web Student \n",
      "Jaipur, India \n",
      "• Developed a responsive company portfolio website using HTML5, CSS3, and JavaScript, increasing user engagement \n",
      "and improving conversion rates by 25%. \n",
      "• Enhanced a learning platform through data-driven UI improvements, resulting in a 20% increase in course \n",
      "enrollment.  \n",
      "EDUCATION \n",
      " \n",
      "The National Institute of Technology – Delhi, India                                                                                                                (2018 – 2022) \n",
      "Bachelor of Technology in Electronics and Communication Engineering. \n",
      "TECHNICAL SKILLS \n",
      " \n",
      "• Programming Languages: Python, C, C++, SQL, HTML5 \n",
      "• Data Science & Machine Learning: Data Analysis, Data Visualization, Machine Learning Algorithms, Deep Learning, \n",
      "Natural Language Processing \n",
      "• RPA Tools: UiPath, Python for Automation \n",
      "ADDITIONAL PROJECTS & ACHIEVEMENTS \n",
      " \n",
      "• Completed Master the Theory, Practice, and Math Behind Data Science, Machine Learning, Deep Learning, NLP on \n",
      "Udemy, with practical, end-to-end project experience. \n",
      "• Awarded ‘Rising Star’ for exceptional performance (H2 FY 22-23). \n",
      "• Achieved 95% client satisfaction through high-quality project delivery and continuous support. \n",
      "INTERESTS \n",
      " \n",
      "• Machine Learning and AI Development \n",
      "• Data Science & Data Analytics \n",
      "• Automation & RPA Solutions \n",
      "• Problem Solving and Data Security \n",
      "Developed and optimized 50+ RPA projects. Utilized\n",
      "60%.\n",
      "\n"
     ]
    }
   ],
   "source": [
    "resume_text = extract_text_from_pdf(\"Mohd_Humaid_Resume_Updated.pdf\")\n",
    "print(resume_text)"
   ]
  },
  {
   "cell_type": "code",
   "execution_count": 15,
   "id": "c2073c72",
   "metadata": {},
   "outputs": [],
   "source": [
    "def load_job_descriptions(file_path):\n",
    "    with open(file_path, \"r\", encoding=\"utf-8\") as file:\n",
    "        content = file.read()\n",
    "\n",
    "    jobs_raw = content.split('---')\n",
    "    jobs = []\n",
    "\n",
    "    for job in jobs_raw:\n",
    "        job = job.strip()\n",
    "        if job:\n",
    "            lines = job.splitlines()\n",
    "            title = \"\"\n",
    "            company = \"\"\n",
    "            description = \"\"\n",
    "            for line in lines:\n",
    "                if line.lower().startswith(\"title:\"):\n",
    "                    title = line.split(\":\", 1)[1].strip()\n",
    "                elif line.lower().startswith(\"company:\"):\n",
    "                    company = line.split(\":\", 1)[1].strip()\n",
    "                elif line.lower().startswith(\"description:\"):\n",
    "                    description = line.split(\":\", 1)[1].strip()\n",
    "                else:\n",
    "                    description += \" \" + line.strip()\n",
    "\n",
    "            jobs.append({\n",
    "                \"title\": title,\n",
    "                \"company\": company,\n",
    "                \"description\": description\n",
    "            })\n",
    "    return jobs"
   ]
  },
  {
   "cell_type": "code",
   "execution_count": 6,
   "id": "d8ac06e8",
   "metadata": {},
   "outputs": [
    {
     "name": "stdout",
     "output_type": "stream",
     "text": [
      "Title: \n",
      "Company: \n",
      "Description:  Job ID: 1...\n",
      "\n",
      "Title: Data Scientist\n",
      "Company: ABC Corp\n",
      "Description: We are looking for a Data Scientist with experience in Python, machine learning, data visualization,...\n",
      "\n",
      "Title: \n",
      "Company: \n",
      "Description:  Job ID: 2...\n",
      "\n",
      "Title: Machine Learning Engineer\n",
      "Company: XYZ Inc\n",
      "Description: Responsibilities include building and deploying ML models, optimizing performance, and working with ...\n",
      "\n",
      "Title: \n",
      "Company: \n",
      "Description:  Job ID: 3...\n",
      "\n",
      "Title: Analyst Robotic Process Automation (RPA)\n",
      "Company: Deloitte\n",
      "Description: We are seeking a skilled RPA Developer to join our dynamic RPA team. The ideal candidate will be res...\n",
      "\n"
     ]
    }
   ],
   "source": [
    "job_description = load_job_descriptions(\"job_descriptions.txt\")\n",
    "jobs = job_description\n",
    "for job in jobs:\n",
    "    print(f\"Title: {job['title']}\")\n",
    "    print(f\"Company: {job['company']}\")\n",
    "    print(f\"Description: {job['description'][:100]}...\\n\")"
   ]
  },
  {
   "cell_type": "code",
   "execution_count": 19,
   "id": "2a3fbbcf",
   "metadata": {},
   "outputs": [],
   "source": [
    "from sentence_transformers import SentenceTransformer\n",
    "model = SentenceTransformer('all-MiniLM-L6-v2')\n",
    "resume_embed = model.encode(resume_text)\n",
    "jd_embed_list = model.encode([job[\"description\"] for job in jobs], convert_to_numpy=True)\n",
    "\n",
    "jd_embed = model.encode(job_description)\n"
   ]
  },
  {
   "cell_type": "code",
   "execution_count": 20,
   "id": "848bdf24",
   "metadata": {},
   "outputs": [],
   "source": [
    "from sklearn.metrics.pairwise import cosine_similarity\n",
    "\n",
    "similarity = cosine_similarity([resume_embed], jd_embed_list)\n",
    "top_matches = sorted(zip(similarity[0], job), reverse=True)[:5]\n"
   ]
  },
  {
   "cell_type": "code",
   "execution_count": 44,
   "id": "48d6ab5c",
   "metadata": {},
   "outputs": [],
   "source": [
    "common_skills = {\n",
    "    # Programming Languages\n",
    "    \"python\", \"r\", \"java\", \"c++\", \"c#\", \"scala\", \"javascript\", \"typescript\",\n",
    "    \n",
    "    # Data Manipulation & Analysis\n",
    "    \"pandas\", \"numpy\", \"matplotlib\", \"seaborn\", \"scipy\", \"dplyr\", \"tidyverse\", \"statsmodels\",\n",
    "\n",
    "    # Data Visualization\n",
    "    \"power bi\", \"tableau\", \"excel\", \"lookml\", \"qlikview\", \"ggplot2\", \"dash\", \"plotly\", \"looker\",\n",
    "\n",
    "    # Machine Learning\n",
    "    \"scikit-learn\", \"xgboost\", \"lightgbm\", \"catboost\", \"tensorflow\", \"keras\", \"pytorch\",\n",
    "    \"machine learning\", \"supervised learning\", \"unsupervised learning\", \"reinforcement learning\",\n",
    "    \"model evaluation\", \"cross-validation\", \"hyperparameter tuning\", \"model deployment\",\n",
    "\n",
    "    # Deep Learning\n",
    "    \"cnn\", \"rnn\", \"transformers\", \"autoencoders\", \"bert\", \"gpt\", \"llm\", \"deep learning\",\n",
    "\n",
    "    # NLP\n",
    "    \"nlp\", \"text mining\", \"spacy\", \"nltk\", \"text classification\", \"named entity recognition\",\n",
    "    \"sentiment analysis\", \"language modeling\", \"topic modeling\", \"tf-idf\", \"word2vec\",\n",
    "\n",
    "    # SQL / Databases\n",
    "    \"sql\", \"mysql\", \"postgresql\", \"mssql\", \"oracle\", \"nosql\", \"mongodb\", \"redshift\", \"bigquery\",\n",
    "    \"hive\", \"snowflake\", \"dynamodb\", \"database design\", \"joins\", \"window functions\",\n",
    "\n",
    "    # Cloud & DevOps\n",
    "    \"aws\", \"azure\", \"gcp\", \"docker\", \"kubernetes\", \"lambda\", \"sagemaker\", \"ec2\", \"cloud storage\",\n",
    "    \"mlops\", \"ci/cd\", \"jenkins\", \"airflow\", \"databricks\", \"terraform\",\n",
    "\n",
    "    # Big Data & ETL\n",
    "    \"hadoop\", \"spark\", \"pyspark\", \"kafka\", \"flink\", \"hdfs\", \"etl\", \"data pipeline\", \"data warehouse\",\n",
    "\n",
    "    # Web Frameworks\n",
    "    \"flask\", \"django\", \"fastapi\", \"streamlit\", \"gradio\", \"html\", \"css\", \"api development\",\n",
    "\n",
    "    # Data Engineering / Processing\n",
    "    \"data cleaning\", \"data wrangling\", \"feature engineering\", \"data preprocessing\",\n",
    "    \"data modeling\", \"data governance\", \"data validation\", \"schema design\",\n",
    "\n",
    "    # Version Control & Tools\n",
    "    \"git\", \"github\", \"bitbucket\", \"jira\", \"notion\", \"postman\", \"linux\", \"bash\", \"shell scripting\",\n",
    "\n",
    "    # RPA Specific\n",
    "    \"uipath\", \"automation anywhere\", \"blue prism\", \"workflow automation\", \"robotic process automation\",\n",
    "    \"orchestrator\", \"reframework\", \"selectors\", \"citrix automation\", \"mainframe automation\",\n",
    "    \n",
    "    # Soft Skills\n",
    "    \"communication\", \"problem solving\", \"teamwork\", \"leadership\", \"collaboration\",\n",
    "    \"time management\", \"critical thinking\", \"adaptability\", \"attention to detail\",\n",
    "    \"presentation skills\", \"stakeholder management\", \"business acumen\", \"project management\"\n",
    "}\n"
   ]
  },
  {
   "cell_type": "code",
   "execution_count": 45,
   "id": "98b1a4ae",
   "metadata": {},
   "outputs": [],
   "source": [
    "import spacy\n",
    "\n",
    "nlp = spacy.load(\"en_core_web_sm\")\n",
    "\n",
    "def extract_skills_local(text):\n",
    "    doc = nlp(text.lower())\n",
    "    extracted = set()\n",
    "\n",
    "    for chunk in doc.noun_chunks:\n",
    "        skill = chunk.text.strip()\n",
    "        if skill in common_skills:\n",
    "            extracted.add(skill)\n",
    "\n",
    "    for token in doc:\n",
    "        if token.text in common_skills:\n",
    "            extracted.add(token.text)\n",
    "\n",
    "    return extracted\n"
   ]
  },
  {
   "cell_type": "code",
   "execution_count": 46,
   "id": "9cf84ffa",
   "metadata": {},
   "outputs": [],
   "source": [
    "resume_skills = extract_skills_local(resume_text)\n",
    "\n",
    "job_skills_list = []\n",
    "for jd in job_description:\n",
    "    jd_text = jd[\"description\"]  # ✅ extract the string\n",
    "    jd_skills = extract_skills_local(jd_text)\n",
    "    job_skills_list.append(jd_skills)\n"
   ]
  },
  {
   "cell_type": "code",
   "execution_count": 47,
   "id": "101a058a",
   "metadata": {},
   "outputs": [],
   "source": [
    "for jd, jd_skills in zip(job_description, job_skills_list):\n",
    "    matched = resume_skills.intersection(jd_skills)\n",
    "    missing = jd_skills.difference(resume_skills)\n",
    "\n",
    "    skill_match_results.append({\n",
    "        \"job_title\": jd[\"title\"],\n",
    "        \"company\": jd[\"company\"],\n",
    "        \"job_description\": jd[\"description\"][:100] + \"...\",\n",
    "        \"matched_skills\": matched,\n",
    "        \"missing_skills\": missing,\n",
    "        \"match_count\": len(matched),\n",
    "        \"total_required\": len(jd_skills),\n",
    "        \"skill_score\": round(len(matched) / len(jd_skills) * 100, 2) if jd_skills else 0\n",
    "    })\n"
   ]
  },
  {
   "cell_type": "code",
   "execution_count": 48,
   "id": "f72ef831",
   "metadata": {},
   "outputs": [
    {
     "data": {
      "text/plain": [
       "{'pandas', 'scikit-learn'}"
      ]
     },
     "execution_count": 48,
     "metadata": {},
     "output_type": "execute_result"
    }
   ],
   "source": [
    "skill_match_results[1][\"missing_skills\"]"
   ]
  },
  {
   "cell_type": "code",
   "execution_count": 50,
   "id": "287b8f59",
   "metadata": {},
   "outputs": [
    {
     "data": {
      "text/plain": [
       "np.float32(0.35151204)"
      ]
     },
     "execution_count": 50,
     "metadata": {},
     "output_type": "execute_result"
    }
   ],
   "source": [
    "similarity[0][1]"
   ]
  },
  {
   "cell_type": "code",
   "execution_count": 52,
   "id": "96b0a4ea",
   "metadata": {},
   "outputs": [
    {
     "name": "stdout",
     "output_type": "stream",
     "text": [
      "<class 'numpy.ndarray'>\n"
     ]
    }
   ],
   "source": [
    "print(type(similarity))\n"
   ]
  },
  {
   "cell_type": "code",
   "execution_count": null,
   "id": "c1fffe79",
   "metadata": {},
   "outputs": [],
   "source": []
  },
  {
   "cell_type": "code",
   "execution_count": null,
   "id": "b21acd2f",
   "metadata": {},
   "outputs": [],
   "source": []
  },
  {
   "cell_type": "code",
   "execution_count": null,
   "id": "20271f2d",
   "metadata": {},
   "outputs": [],
   "source": []
  },
  {
   "cell_type": "code",
   "execution_count": null,
   "id": "9bb50ce3",
   "metadata": {},
   "outputs": [],
   "source": []
  },
  {
   "cell_type": "code",
   "execution_count": null,
   "id": "b8e6fe9d",
   "metadata": {},
   "outputs": [],
   "source": []
  },
  {
   "cell_type": "code",
   "execution_count": null,
   "id": "902c809f",
   "metadata": {},
   "outputs": [],
   "source": []
  },
  {
   "cell_type": "code",
   "execution_count": null,
   "id": "d586196f",
   "metadata": {},
   "outputs": [],
   "source": []
  },
  {
   "cell_type": "code",
   "execution_count": null,
   "id": "8356de36",
   "metadata": {},
   "outputs": [],
   "source": []
  },
  {
   "cell_type": "code",
   "execution_count": null,
   "id": "b10f51c7",
   "metadata": {},
   "outputs": [],
   "source": []
  },
  {
   "cell_type": "code",
   "execution_count": null,
   "id": "c9f75ca1",
   "metadata": {},
   "outputs": [],
   "source": []
  },
  {
   "cell_type": "code",
   "execution_count": null,
   "id": "7a4062e0",
   "metadata": {},
   "outputs": [],
   "source": []
  },
  {
   "cell_type": "code",
   "execution_count": null,
   "id": "69ea8eb3",
   "metadata": {},
   "outputs": [],
   "source": []
  },
  {
   "cell_type": "code",
   "execution_count": null,
   "id": "5fbb2b85",
   "metadata": {},
   "outputs": [],
   "source": []
  },
  {
   "cell_type": "code",
   "execution_count": null,
   "id": "cd48eb55",
   "metadata": {},
   "outputs": [],
   "source": []
  },
  {
   "cell_type": "code",
   "execution_count": 24,
   "id": "5f944c46",
   "metadata": {},
   "outputs": [
    {
     "data": {
      "text/plain": [
       "array([[0.2702284 , 0.35151204, 0.25057712, 0.4337449 , 0.2548904 ,\n",
       "        0.60043   ]], dtype=float32)"
      ]
     },
     "execution_count": 24,
     "metadata": {},
     "output_type": "execute_result"
    }
   ],
   "source": [
    "prompt = f\"Extract top 10 technical and soft skills from the following text:\\n{resume_text}\"\n",
    "similarity"
   ]
  },
  {
   "cell_type": "code",
   "execution_count": 8,
   "id": "2471cb52",
   "metadata": {},
   "outputs": [],
   "source": [
    "jobs = load_job_descriptions(\"job_descriptions.txt\")\n"
   ]
  },
  {
   "cell_type": "code",
   "execution_count": 9,
   "id": "d8fb4013",
   "metadata": {},
   "outputs": [],
   "source": [
    "from sentence_transformers import SentenceTransformer\n",
    "import numpy as np\n",
    "\n",
    "# Load sentence transformer model\n",
    "model = SentenceTransformer(\"all-MiniLM-L6-v2\")\n",
    "\n",
    "# Extract descriptions\n",
    "descriptions = [job[\"description\"] for job in jobs]\n",
    "\n",
    "# Generate embeddings (vectors)\n",
    "embeddings = model.encode(descriptions, convert_to_numpy=True)\n"
   ]
  },
  {
   "cell_type": "code",
   "execution_count": 10,
   "id": "58609940",
   "metadata": {},
   "outputs": [],
   "source": [
    "import faiss\n",
    "\n",
    "# Dimension of embeddings\n",
    "dim = embeddings.shape[1]\n",
    "\n",
    "# Create FAISS index (L2 similarity; you can also use cosine)\n",
    "index = faiss.IndexFlatL2(dim)\n",
    "\n",
    "# Add embeddings to index\n",
    "index.add(embeddings)\n",
    "\n",
    "# Optional: Keep mapping from index to job metadata\n",
    "id_to_job = {i: job for i, job in enumerate(jobs)}\n"
   ]
  },
  {
   "cell_type": "code",
   "execution_count": 11,
   "id": "070273b7",
   "metadata": {},
   "outputs": [],
   "source": [
    "def find_similar_jobs(query_text, top_k=3):\n",
    "    query_embedding = model.encode([query_text], convert_to_numpy=True)\n",
    "    distances, indices = index.search(query_embedding, top_k)\n",
    "    return [(id_to_job[i], distances[0][rank]) for rank, i in enumerate(indices[0])]\n"
   ]
  },
  {
   "cell_type": "code",
   "execution_count": 12,
   "id": "8724aa6f",
   "metadata": {},
   "outputs": [
    {
     "name": "stdout",
     "output_type": "stream",
     "text": [
      "Title: Data Scientist (ABC Corp)\n",
      "Similarity Score: 0.68\n",
      "Description: We are looking for a Data Scientist with experience in Python, machine learning, data visualization,...\n",
      "\n",
      "Title: Machine Learning Engineer (XYZ Inc)\n",
      "Similarity Score: 1.07\n",
      "Description: Responsibilities include building and deploying ML models, optimizing performance, and working with ...\n",
      "\n",
      "Title: Analyst Robotic Process Automation (RPA) (Deloitte)\n",
      "Similarity Score: 1.52\n",
      "Description: We are seeking a skilled RPA Developer to join our dynamic RPA team. The ideal candidate will be res...\n",
      "\n"
     ]
    }
   ],
   "source": [
    "resume_text = \"I have 3 years experience in Python, SQL, and building ML models using scikit-learn.\"\n",
    "matches = find_similar_jobs(resume_text)\n",
    "\n",
    "for job, score in matches:\n",
    "    print(f\"Title: {job['title']} ({job['company']})\")\n",
    "    print(f\"Similarity Score: {score:.2f}\")\n",
    "    print(f\"Description: {job['description'][:100]}...\\n\")\n"
   ]
  },
  {
   "cell_type": "code",
   "execution_count": null,
   "id": "714f0064",
   "metadata": {},
   "outputs": [],
   "source": []
  },
  {
   "cell_type": "code",
   "execution_count": null,
   "id": "690984f7",
   "metadata": {},
   "outputs": [],
   "source": []
  },
  {
   "cell_type": "code",
   "execution_count": null,
   "id": "6c3c55c7",
   "metadata": {},
   "outputs": [],
   "source": [
    "import streamlit as st\n",
    "\n",
    "st.title(\"Resume Analyzer & Job Matcher\")\n",
    "resume = st.file_uploader(\"Upload your resume (PDF)\", type=[\"pdf\"])\n",
    "if resume:\n",
    "    text = extract_text_from_pdf(resume)\n",
    "    # do matching, display results\n"
   ]
  }
 ],
 "metadata": {
  "kernelspec": {
   "display_name": "venv",
   "language": "python",
   "name": "python3"
  },
  "language_info": {
   "codemirror_mode": {
    "name": "ipython",
    "version": 3
   },
   "file_extension": ".py",
   "mimetype": "text/x-python",
   "name": "python",
   "nbconvert_exporter": "python",
   "pygments_lexer": "ipython3",
   "version": "3.13.5"
  }
 },
 "nbformat": 4,
 "nbformat_minor": 5
}
